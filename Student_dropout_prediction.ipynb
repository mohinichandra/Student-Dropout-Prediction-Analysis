{
 "cells": [
  {
   "cell_type": "markdown",
   "id": "c33153ea-8c49-434e-8dd0-4ac56943abdf",
   "metadata": {},
   "source": [
    "## Student Dropout Prediction for Online Learning Platform"
   ]
  },
  {
   "cell_type": "markdown",
   "id": "ecc8945c-d774-4bf0-bfb8-7d6e0d4c1569",
   "metadata": {},
   "source": [
    "## Project Goal:\n",
    "To predict which students are likely to drop out based on behavioral, performance, and demographic data, and visualize insights using Power BI."
   ]
  },
  {
   "cell_type": "markdown",
   "id": "a40a7651-c317-4ab8-becd-e2972f40b4be",
   "metadata": {},
   "source": [
    "#### Step 1: Import Libraries"
   ]
  },
  {
   "cell_type": "code",
   "execution_count": 1,
   "id": "27ab3c5e-e9ec-493a-9f8a-025515a8df21",
   "metadata": {},
   "outputs": [],
   "source": [
    "import pandas as pd\n",
    "import seaborn as sns\n",
    "import matplotlib.pyplot as plt"
   ]
  },
  {
   "cell_type": "markdown",
   "id": "d74048df-3cd9-4878-b25d-17f670fc74dc",
   "metadata": {},
   "source": [
    "#### Step 2: Load and Explore Data"
   ]
  },
  {
   "cell_type": "code",
   "execution_count": 2,
   "id": "6d9e54cf-a246-4fc0-980d-bef976d13022",
   "metadata": {},
   "outputs": [],
   "source": [
    "data = pd.read_csv(\"personalized_learning_dataset.csv\")"
   ]
  },
  {
   "cell_type": "code",
   "execution_count": 3,
   "id": "08c62efc-9ee8-4379-996b-a8925881c5c2",
   "metadata": {},
   "outputs": [
    {
     "data": {
      "text/html": [
       "<div>\n",
       "<style scoped>\n",
       "    .dataframe tbody tr th:only-of-type {\n",
       "        vertical-align: middle;\n",
       "    }\n",
       "\n",
       "    .dataframe tbody tr th {\n",
       "        vertical-align: top;\n",
       "    }\n",
       "\n",
       "    .dataframe thead th {\n",
       "        text-align: right;\n",
       "    }\n",
       "</style>\n",
       "<table border=\"1\" class=\"dataframe\">\n",
       "  <thead>\n",
       "    <tr style=\"text-align: right;\">\n",
       "      <th></th>\n",
       "      <th>Student_ID</th>\n",
       "      <th>Age</th>\n",
       "      <th>Gender</th>\n",
       "      <th>Education_Level</th>\n",
       "      <th>Course_Name</th>\n",
       "      <th>Time_Spent_on_Videos</th>\n",
       "      <th>Quiz_Attempts</th>\n",
       "      <th>Quiz_Scores</th>\n",
       "      <th>Forum_Participation</th>\n",
       "      <th>Assignment_Completion_Rate</th>\n",
       "      <th>Engagement_Level</th>\n",
       "      <th>Final_Exam_Score</th>\n",
       "      <th>Learning_Style</th>\n",
       "      <th>Feedback_Score</th>\n",
       "      <th>Dropout_Likelihood</th>\n",
       "    </tr>\n",
       "  </thead>\n",
       "  <tbody>\n",
       "    <tr>\n",
       "      <th>0</th>\n",
       "      <td>S00001</td>\n",
       "      <td>15</td>\n",
       "      <td>Female</td>\n",
       "      <td>High School</td>\n",
       "      <td>Machine Learning</td>\n",
       "      <td>171</td>\n",
       "      <td>4</td>\n",
       "      <td>67</td>\n",
       "      <td>2</td>\n",
       "      <td>89</td>\n",
       "      <td>Medium</td>\n",
       "      <td>51</td>\n",
       "      <td>Visual</td>\n",
       "      <td>1</td>\n",
       "      <td>No</td>\n",
       "    </tr>\n",
       "    <tr>\n",
       "      <th>1</th>\n",
       "      <td>S00002</td>\n",
       "      <td>49</td>\n",
       "      <td>Male</td>\n",
       "      <td>Undergraduate</td>\n",
       "      <td>Python Basics</td>\n",
       "      <td>156</td>\n",
       "      <td>4</td>\n",
       "      <td>64</td>\n",
       "      <td>0</td>\n",
       "      <td>94</td>\n",
       "      <td>Medium</td>\n",
       "      <td>92</td>\n",
       "      <td>Reading/Writing</td>\n",
       "      <td>5</td>\n",
       "      <td>No</td>\n",
       "    </tr>\n",
       "    <tr>\n",
       "      <th>2</th>\n",
       "      <td>S00003</td>\n",
       "      <td>20</td>\n",
       "      <td>Female</td>\n",
       "      <td>Undergraduate</td>\n",
       "      <td>Python Basics</td>\n",
       "      <td>217</td>\n",
       "      <td>2</td>\n",
       "      <td>55</td>\n",
       "      <td>2</td>\n",
       "      <td>67</td>\n",
       "      <td>Medium</td>\n",
       "      <td>45</td>\n",
       "      <td>Reading/Writing</td>\n",
       "      <td>1</td>\n",
       "      <td>No</td>\n",
       "    </tr>\n",
       "    <tr>\n",
       "      <th>3</th>\n",
       "      <td>S00004</td>\n",
       "      <td>37</td>\n",
       "      <td>Female</td>\n",
       "      <td>Undergraduate</td>\n",
       "      <td>Data Science</td>\n",
       "      <td>489</td>\n",
       "      <td>1</td>\n",
       "      <td>65</td>\n",
       "      <td>43</td>\n",
       "      <td>60</td>\n",
       "      <td>High</td>\n",
       "      <td>59</td>\n",
       "      <td>Visual</td>\n",
       "      <td>4</td>\n",
       "      <td>No</td>\n",
       "    </tr>\n",
       "    <tr>\n",
       "      <th>4</th>\n",
       "      <td>S00005</td>\n",
       "      <td>34</td>\n",
       "      <td>Female</td>\n",
       "      <td>Postgraduate</td>\n",
       "      <td>Python Basics</td>\n",
       "      <td>496</td>\n",
       "      <td>3</td>\n",
       "      <td>59</td>\n",
       "      <td>34</td>\n",
       "      <td>88</td>\n",
       "      <td>Medium</td>\n",
       "      <td>93</td>\n",
       "      <td>Visual</td>\n",
       "      <td>3</td>\n",
       "      <td>No</td>\n",
       "    </tr>\n",
       "  </tbody>\n",
       "</table>\n",
       "</div>"
      ],
      "text/plain": [
       "  Student_ID  Age  Gender Education_Level       Course_Name  \\\n",
       "0     S00001   15  Female     High School  Machine Learning   \n",
       "1     S00002   49    Male   Undergraduate     Python Basics   \n",
       "2     S00003   20  Female   Undergraduate     Python Basics   \n",
       "3     S00004   37  Female   Undergraduate      Data Science   \n",
       "4     S00005   34  Female    Postgraduate     Python Basics   \n",
       "\n",
       "   Time_Spent_on_Videos  Quiz_Attempts  Quiz_Scores  Forum_Participation  \\\n",
       "0                   171              4           67                    2   \n",
       "1                   156              4           64                    0   \n",
       "2                   217              2           55                    2   \n",
       "3                   489              1           65                   43   \n",
       "4                   496              3           59                   34   \n",
       "\n",
       "   Assignment_Completion_Rate Engagement_Level  Final_Exam_Score  \\\n",
       "0                          89           Medium                51   \n",
       "1                          94           Medium                92   \n",
       "2                          67           Medium                45   \n",
       "3                          60             High                59   \n",
       "4                          88           Medium                93   \n",
       "\n",
       "    Learning_Style  Feedback_Score Dropout_Likelihood  \n",
       "0           Visual               1                 No  \n",
       "1  Reading/Writing               5                 No  \n",
       "2  Reading/Writing               1                 No  \n",
       "3           Visual               4                 No  \n",
       "4           Visual               3                 No  "
      ]
     },
     "execution_count": 3,
     "metadata": {},
     "output_type": "execute_result"
    }
   ],
   "source": [
    "data.head()"
   ]
  },
  {
   "cell_type": "code",
   "execution_count": 4,
   "id": "f6f1e037-89c3-4825-bf78-914ad9e2cc7e",
   "metadata": {},
   "outputs": [
    {
     "name": "stdout",
     "output_type": "stream",
     "text": [
      "<class 'pandas.core.frame.DataFrame'>\n",
      "RangeIndex: 10000 entries, 0 to 9999\n",
      "Data columns (total 15 columns):\n",
      " #   Column                      Non-Null Count  Dtype \n",
      "---  ------                      --------------  ----- \n",
      " 0   Student_ID                  10000 non-null  object\n",
      " 1   Age                         10000 non-null  int64 \n",
      " 2   Gender                      10000 non-null  object\n",
      " 3   Education_Level             10000 non-null  object\n",
      " 4   Course_Name                 10000 non-null  object\n",
      " 5   Time_Spent_on_Videos        10000 non-null  int64 \n",
      " 6   Quiz_Attempts               10000 non-null  int64 \n",
      " 7   Quiz_Scores                 10000 non-null  int64 \n",
      " 8   Forum_Participation         10000 non-null  int64 \n",
      " 9   Assignment_Completion_Rate  10000 non-null  int64 \n",
      " 10  Engagement_Level            10000 non-null  object\n",
      " 11  Final_Exam_Score            10000 non-null  int64 \n",
      " 12  Learning_Style              10000 non-null  object\n",
      " 13  Feedback_Score              10000 non-null  int64 \n",
      " 14  Dropout_Likelihood          10000 non-null  object\n",
      "dtypes: int64(8), object(7)\n",
      "memory usage: 1.1+ MB\n"
     ]
    }
   ],
   "source": [
    "data.info()"
   ]
  },
  {
   "cell_type": "code",
   "execution_count": 5,
   "id": "456c9e93-78ef-43ec-aee2-465db7f196f9",
   "metadata": {},
   "outputs": [
    {
     "data": {
      "text/plain": [
       "Dropout_Likelihood\n",
       "No     8043\n",
       "Yes    1957\n",
       "Name: count, dtype: int64"
      ]
     },
     "execution_count": 5,
     "metadata": {},
     "output_type": "execute_result"
    }
   ],
   "source": [
    "data['Dropout_Likelihood'].value_counts()"
   ]
  },
  {
   "cell_type": "code",
   "execution_count": 6,
   "id": "d1a6bc8d-baec-4b30-bb6b-3b7e00f45150",
   "metadata": {},
   "outputs": [
    {
     "data": {
      "text/html": [
       "<div>\n",
       "<style scoped>\n",
       "    .dataframe tbody tr th:only-of-type {\n",
       "        vertical-align: middle;\n",
       "    }\n",
       "\n",
       "    .dataframe tbody tr th {\n",
       "        vertical-align: top;\n",
       "    }\n",
       "\n",
       "    .dataframe thead th {\n",
       "        text-align: right;\n",
       "    }\n",
       "</style>\n",
       "<table border=\"1\" class=\"dataframe\">\n",
       "  <thead>\n",
       "    <tr style=\"text-align: right;\">\n",
       "      <th></th>\n",
       "      <th>Age</th>\n",
       "      <th>Time_Spent_on_Videos</th>\n",
       "      <th>Quiz_Attempts</th>\n",
       "      <th>Quiz_Scores</th>\n",
       "      <th>Forum_Participation</th>\n",
       "      <th>Assignment_Completion_Rate</th>\n",
       "      <th>Final_Exam_Score</th>\n",
       "      <th>Feedback_Score</th>\n",
       "    </tr>\n",
       "  </thead>\n",
       "  <tbody>\n",
       "    <tr>\n",
       "      <th>count</th>\n",
       "      <td>10000.000000</td>\n",
       "      <td>10000.000000</td>\n",
       "      <td>10000.000000</td>\n",
       "      <td>10000.000000</td>\n",
       "      <td>10000.000000</td>\n",
       "      <td>10000.000000</td>\n",
       "      <td>10000.000000</td>\n",
       "      <td>10000.000000</td>\n",
       "    </tr>\n",
       "    <tr>\n",
       "      <th>mean</th>\n",
       "      <td>32.137700</td>\n",
       "      <td>255.375400</td>\n",
       "      <td>2.500500</td>\n",
       "      <td>64.578600</td>\n",
       "      <td>24.616200</td>\n",
       "      <td>69.546800</td>\n",
       "      <td>64.697000</td>\n",
       "      <td>3.012600</td>\n",
       "    </tr>\n",
       "    <tr>\n",
       "      <th>std</th>\n",
       "      <td>10.062647</td>\n",
       "      <td>141.656392</td>\n",
       "      <td>1.122642</td>\n",
       "      <td>20.289125</td>\n",
       "      <td>14.330305</td>\n",
       "      <td>17.360782</td>\n",
       "      <td>20.096417</td>\n",
       "      <td>1.421423</td>\n",
       "    </tr>\n",
       "    <tr>\n",
       "      <th>min</th>\n",
       "      <td>15.000000</td>\n",
       "      <td>10.000000</td>\n",
       "      <td>1.000000</td>\n",
       "      <td>30.000000</td>\n",
       "      <td>0.000000</td>\n",
       "      <td>40.000000</td>\n",
       "      <td>30.000000</td>\n",
       "      <td>1.000000</td>\n",
       "    </tr>\n",
       "    <tr>\n",
       "      <th>25%</th>\n",
       "      <td>24.000000</td>\n",
       "      <td>131.000000</td>\n",
       "      <td>1.000000</td>\n",
       "      <td>47.000000</td>\n",
       "      <td>12.000000</td>\n",
       "      <td>54.000000</td>\n",
       "      <td>47.000000</td>\n",
       "      <td>2.000000</td>\n",
       "    </tr>\n",
       "    <tr>\n",
       "      <th>50%</th>\n",
       "      <td>32.000000</td>\n",
       "      <td>257.000000</td>\n",
       "      <td>3.000000</td>\n",
       "      <td>65.000000</td>\n",
       "      <td>25.000000</td>\n",
       "      <td>69.000000</td>\n",
       "      <td>65.000000</td>\n",
       "      <td>3.000000</td>\n",
       "    </tr>\n",
       "    <tr>\n",
       "      <th>75%</th>\n",
       "      <td>41.000000</td>\n",
       "      <td>378.000000</td>\n",
       "      <td>4.000000</td>\n",
       "      <td>82.000000</td>\n",
       "      <td>37.000000</td>\n",
       "      <td>85.000000</td>\n",
       "      <td>82.000000</td>\n",
       "      <td>4.000000</td>\n",
       "    </tr>\n",
       "    <tr>\n",
       "      <th>max</th>\n",
       "      <td>49.000000</td>\n",
       "      <td>499.000000</td>\n",
       "      <td>4.000000</td>\n",
       "      <td>99.000000</td>\n",
       "      <td>49.000000</td>\n",
       "      <td>99.000000</td>\n",
       "      <td>99.000000</td>\n",
       "      <td>5.000000</td>\n",
       "    </tr>\n",
       "  </tbody>\n",
       "</table>\n",
       "</div>"
      ],
      "text/plain": [
       "                Age  Time_Spent_on_Videos  Quiz_Attempts   Quiz_Scores  \\\n",
       "count  10000.000000          10000.000000   10000.000000  10000.000000   \n",
       "mean      32.137700            255.375400       2.500500     64.578600   \n",
       "std       10.062647            141.656392       1.122642     20.289125   \n",
       "min       15.000000             10.000000       1.000000     30.000000   \n",
       "25%       24.000000            131.000000       1.000000     47.000000   \n",
       "50%       32.000000            257.000000       3.000000     65.000000   \n",
       "75%       41.000000            378.000000       4.000000     82.000000   \n",
       "max       49.000000            499.000000       4.000000     99.000000   \n",
       "\n",
       "       Forum_Participation  Assignment_Completion_Rate  Final_Exam_Score  \\\n",
       "count         10000.000000                10000.000000      10000.000000   \n",
       "mean             24.616200                   69.546800         64.697000   \n",
       "std              14.330305                   17.360782         20.096417   \n",
       "min               0.000000                   40.000000         30.000000   \n",
       "25%              12.000000                   54.000000         47.000000   \n",
       "50%              25.000000                   69.000000         65.000000   \n",
       "75%              37.000000                   85.000000         82.000000   \n",
       "max              49.000000                   99.000000         99.000000   \n",
       "\n",
       "       Feedback_Score  \n",
       "count    10000.000000  \n",
       "mean         3.012600  \n",
       "std          1.421423  \n",
       "min          1.000000  \n",
       "25%          2.000000  \n",
       "50%          3.000000  \n",
       "75%          4.000000  \n",
       "max          5.000000  "
      ]
     },
     "execution_count": 6,
     "metadata": {},
     "output_type": "execute_result"
    }
   ],
   "source": [
    "data.describe()"
   ]
  },
  {
   "cell_type": "markdown",
   "id": "ca29646d-ba41-45d3-99c8-f766d44b0c3d",
   "metadata": {},
   "source": [
    "### Explanation:\n",
    "\n",
    "info(): Checks data types and non-null values.\n",
    "\n",
    "isnull().sum(): Helps find missing values.\n",
    "\n",
    "describe(): Summary of numerical data (mean, std, etc.).\n",
    "\n",
    "value_counts(): Check balance of dropout vs no-dropout."
   ]
  },
  {
   "cell_type": "markdown",
   "id": "2c112529-83ce-4049-9806-ec31132de246",
   "metadata": {},
   "source": [
    "#### Step 3: Clean the Data"
   ]
  },
  {
   "cell_type": "code",
   "execution_count": 7,
   "id": "140729bb-a66e-4234-8871-b35944283c06",
   "metadata": {},
   "outputs": [
    {
     "data": {
      "text/plain": [
       "Student_ID                    0\n",
       "Age                           0\n",
       "Gender                        0\n",
       "Education_Level               0\n",
       "Course_Name                   0\n",
       "Time_Spent_on_Videos          0\n",
       "Quiz_Attempts                 0\n",
       "Quiz_Scores                   0\n",
       "Forum_Participation           0\n",
       "Assignment_Completion_Rate    0\n",
       "Engagement_Level              0\n",
       "Final_Exam_Score              0\n",
       "Learning_Style                0\n",
       "Feedback_Score                0\n",
       "Dropout_Likelihood            0\n",
       "dtype: int64"
      ]
     },
     "execution_count": 7,
     "metadata": {},
     "output_type": "execute_result"
    }
   ],
   "source": [
    "data.isnull().sum()"
   ]
  },
  {
   "cell_type": "code",
   "execution_count": 8,
   "id": "1289a0e8-4bf3-419b-bf5d-a4c3570f23e0",
   "metadata": {},
   "outputs": [],
   "source": [
    "data = data.dropna()  # Remove rows with missing values"
   ]
  },
  {
   "cell_type": "code",
   "execution_count": 9,
   "id": "7b06b10e-2f0c-41c0-a23d-2418c00effaa",
   "metadata": {},
   "outputs": [],
   "source": [
    "# Drop Student_ID as it's an identifier\n",
    "data_cleaned = data.drop(columns=['Student_ID'])\n",
    "\n",
    "# Convert categorical columns to lowercase strings\n",
    "cat_cols = data_cleaned.select_dtypes(include='object').columns\n",
    "data_cleaned[cat_cols] = data_cleaned[cat_cols].apply(lambda x: x.str.lower())\n",
    "\n",
    "# Convert target variable to binary\n",
    "data_cleaned['Dropout_Likelihood'] = data_cleaned['Dropout_Likelihood'].map({'yes': 1, 'no': 0})\n"
   ]
  },
  {
   "cell_type": "markdown",
   "id": "9c06b416-e55c-4507-86a4-44b5c0035f13",
   "metadata": {},
   "source": [
    "#### Explanation:\n",
    "\n",
    "1. Dropping non-informative columns. Student_ID\n",
    "\n",
    "2. Standardized categorical text data by converting to lowercase.\n",
    "\n",
    "3. Converted target variable (Dropout_Likelihood) from categorical (\"yes\"/\"no\") to binary (1/0)."
   ]
  },
  {
   "cell_type": "code",
   "execution_count": 10,
   "id": "2dc89119-f40d-49a7-afcd-100847eb675a",
   "metadata": {},
   "outputs": [
    {
     "name": "stdout",
     "output_type": "stream",
     "text": [
      "<class 'pandas.core.frame.DataFrame'>\n",
      "RangeIndex: 10000 entries, 0 to 9999\n",
      "Data columns (total 15 columns):\n",
      " #   Column                      Non-Null Count  Dtype \n",
      "---  ------                      --------------  ----- \n",
      " 0   Student_ID                  10000 non-null  object\n",
      " 1   Age                         10000 non-null  int64 \n",
      " 2   Gender                      10000 non-null  object\n",
      " 3   Education_Level             10000 non-null  object\n",
      " 4   Course_Name                 10000 non-null  object\n",
      " 5   Time_Spent_on_Videos        10000 non-null  int64 \n",
      " 6   Quiz_Attempts               10000 non-null  int64 \n",
      " 7   Quiz_Scores                 10000 non-null  int64 \n",
      " 8   Forum_Participation         10000 non-null  int64 \n",
      " 9   Assignment_Completion_Rate  10000 non-null  int64 \n",
      " 10  Engagement_Level            10000 non-null  object\n",
      " 11  Final_Exam_Score            10000 non-null  int64 \n",
      " 12  Learning_Style              10000 non-null  object\n",
      " 13  Feedback_Score              10000 non-null  int64 \n",
      " 14  Dropout_Likelihood          10000 non-null  object\n",
      "dtypes: int64(8), object(7)\n",
      "memory usage: 1.1+ MB\n"
     ]
    }
   ],
   "source": [
    "data.info()"
   ]
  },
  {
   "cell_type": "code",
   "execution_count": 11,
   "id": "afaf8830-1750-45b3-9218-98c2a619292a",
   "metadata": {},
   "outputs": [
    {
     "data": {
      "text/plain": [
       "Index(['Gender', 'Education_Level', 'Course_Name', 'Engagement_Level',\n",
       "       'Learning_Style', 'Dropout_Likelihood'],\n",
       "      dtype='object')"
      ]
     },
     "execution_count": 11,
     "metadata": {},
     "output_type": "execute_result"
    }
   ],
   "source": [
    "cat_cols"
   ]
  },
  {
   "cell_type": "markdown",
   "id": "b4f1cc2a-6004-4a00-bba5-45fe2a3bbf14",
   "metadata": {},
   "source": [
    "----- We have added feature od 'String' type to cat_cols and replace yes with 1 and no with 0 in Droupout_likelihood"
   ]
  },
  {
   "cell_type": "code",
   "execution_count": 12,
   "id": "577ce456-6070-49d0-b2c1-15f77750c9a4",
   "metadata": {},
   "outputs": [
    {
     "data": {
      "text/html": [
       "<div>\n",
       "<style scoped>\n",
       "    .dataframe tbody tr th:only-of-type {\n",
       "        vertical-align: middle;\n",
       "    }\n",
       "\n",
       "    .dataframe tbody tr th {\n",
       "        vertical-align: top;\n",
       "    }\n",
       "\n",
       "    .dataframe thead th {\n",
       "        text-align: right;\n",
       "    }\n",
       "</style>\n",
       "<table border=\"1\" class=\"dataframe\">\n",
       "  <thead>\n",
       "    <tr style=\"text-align: right;\">\n",
       "      <th></th>\n",
       "      <th>Age</th>\n",
       "      <th>Gender</th>\n",
       "      <th>Education_Level</th>\n",
       "      <th>Course_Name</th>\n",
       "      <th>Time_Spent_on_Videos</th>\n",
       "      <th>Quiz_Attempts</th>\n",
       "      <th>Quiz_Scores</th>\n",
       "      <th>Forum_Participation</th>\n",
       "      <th>Assignment_Completion_Rate</th>\n",
       "      <th>Engagement_Level</th>\n",
       "      <th>Final_Exam_Score</th>\n",
       "      <th>Learning_Style</th>\n",
       "      <th>Feedback_Score</th>\n",
       "      <th>Dropout_Likelihood</th>\n",
       "    </tr>\n",
       "  </thead>\n",
       "  <tbody>\n",
       "    <tr>\n",
       "      <th>0</th>\n",
       "      <td>15</td>\n",
       "      <td>female</td>\n",
       "      <td>high school</td>\n",
       "      <td>machine learning</td>\n",
       "      <td>171</td>\n",
       "      <td>4</td>\n",
       "      <td>67</td>\n",
       "      <td>2</td>\n",
       "      <td>89</td>\n",
       "      <td>medium</td>\n",
       "      <td>51</td>\n",
       "      <td>visual</td>\n",
       "      <td>1</td>\n",
       "      <td>0</td>\n",
       "    </tr>\n",
       "    <tr>\n",
       "      <th>1</th>\n",
       "      <td>49</td>\n",
       "      <td>male</td>\n",
       "      <td>undergraduate</td>\n",
       "      <td>python basics</td>\n",
       "      <td>156</td>\n",
       "      <td>4</td>\n",
       "      <td>64</td>\n",
       "      <td>0</td>\n",
       "      <td>94</td>\n",
       "      <td>medium</td>\n",
       "      <td>92</td>\n",
       "      <td>reading/writing</td>\n",
       "      <td>5</td>\n",
       "      <td>0</td>\n",
       "    </tr>\n",
       "    <tr>\n",
       "      <th>2</th>\n",
       "      <td>20</td>\n",
       "      <td>female</td>\n",
       "      <td>undergraduate</td>\n",
       "      <td>python basics</td>\n",
       "      <td>217</td>\n",
       "      <td>2</td>\n",
       "      <td>55</td>\n",
       "      <td>2</td>\n",
       "      <td>67</td>\n",
       "      <td>medium</td>\n",
       "      <td>45</td>\n",
       "      <td>reading/writing</td>\n",
       "      <td>1</td>\n",
       "      <td>0</td>\n",
       "    </tr>\n",
       "    <tr>\n",
       "      <th>3</th>\n",
       "      <td>37</td>\n",
       "      <td>female</td>\n",
       "      <td>undergraduate</td>\n",
       "      <td>data science</td>\n",
       "      <td>489</td>\n",
       "      <td>1</td>\n",
       "      <td>65</td>\n",
       "      <td>43</td>\n",
       "      <td>60</td>\n",
       "      <td>high</td>\n",
       "      <td>59</td>\n",
       "      <td>visual</td>\n",
       "      <td>4</td>\n",
       "      <td>0</td>\n",
       "    </tr>\n",
       "    <tr>\n",
       "      <th>4</th>\n",
       "      <td>34</td>\n",
       "      <td>female</td>\n",
       "      <td>postgraduate</td>\n",
       "      <td>python basics</td>\n",
       "      <td>496</td>\n",
       "      <td>3</td>\n",
       "      <td>59</td>\n",
       "      <td>34</td>\n",
       "      <td>88</td>\n",
       "      <td>medium</td>\n",
       "      <td>93</td>\n",
       "      <td>visual</td>\n",
       "      <td>3</td>\n",
       "      <td>0</td>\n",
       "    </tr>\n",
       "    <tr>\n",
       "      <th>5</th>\n",
       "      <td>34</td>\n",
       "      <td>male</td>\n",
       "      <td>undergraduate</td>\n",
       "      <td>web development</td>\n",
       "      <td>184</td>\n",
       "      <td>1</td>\n",
       "      <td>87</td>\n",
       "      <td>34</td>\n",
       "      <td>70</td>\n",
       "      <td>medium</td>\n",
       "      <td>43</td>\n",
       "      <td>visual</td>\n",
       "      <td>4</td>\n",
       "      <td>0</td>\n",
       "    </tr>\n",
       "    <tr>\n",
       "      <th>6</th>\n",
       "      <td>45</td>\n",
       "      <td>male</td>\n",
       "      <td>high school</td>\n",
       "      <td>cybersecurity</td>\n",
       "      <td>454</td>\n",
       "      <td>3</td>\n",
       "      <td>69</td>\n",
       "      <td>46</td>\n",
       "      <td>83</td>\n",
       "      <td>low</td>\n",
       "      <td>37</td>\n",
       "      <td>kinesthetic</td>\n",
       "      <td>5</td>\n",
       "      <td>0</td>\n",
       "    </tr>\n",
       "    <tr>\n",
       "      <th>7</th>\n",
       "      <td>47</td>\n",
       "      <td>male</td>\n",
       "      <td>high school</td>\n",
       "      <td>cybersecurity</td>\n",
       "      <td>425</td>\n",
       "      <td>2</td>\n",
       "      <td>62</td>\n",
       "      <td>23</td>\n",
       "      <td>52</td>\n",
       "      <td>high</td>\n",
       "      <td>35</td>\n",
       "      <td>reading/writing</td>\n",
       "      <td>5</td>\n",
       "      <td>0</td>\n",
       "    </tr>\n",
       "    <tr>\n",
       "      <th>8</th>\n",
       "      <td>48</td>\n",
       "      <td>male</td>\n",
       "      <td>undergraduate</td>\n",
       "      <td>cybersecurity</td>\n",
       "      <td>359</td>\n",
       "      <td>1</td>\n",
       "      <td>59</td>\n",
       "      <td>10</td>\n",
       "      <td>88</td>\n",
       "      <td>medium</td>\n",
       "      <td>49</td>\n",
       "      <td>reading/writing</td>\n",
       "      <td>2</td>\n",
       "      <td>0</td>\n",
       "    </tr>\n",
       "    <tr>\n",
       "      <th>9</th>\n",
       "      <td>45</td>\n",
       "      <td>female</td>\n",
       "      <td>undergraduate</td>\n",
       "      <td>data science</td>\n",
       "      <td>263</td>\n",
       "      <td>4</td>\n",
       "      <td>63</td>\n",
       "      <td>30</td>\n",
       "      <td>99</td>\n",
       "      <td>low</td>\n",
       "      <td>61</td>\n",
       "      <td>auditory</td>\n",
       "      <td>3</td>\n",
       "      <td>0</td>\n",
       "    </tr>\n",
       "  </tbody>\n",
       "</table>\n",
       "</div>"
      ],
      "text/plain": [
       "   Age  Gender Education_Level       Course_Name  Time_Spent_on_Videos  \\\n",
       "0   15  female     high school  machine learning                   171   \n",
       "1   49    male   undergraduate     python basics                   156   \n",
       "2   20  female   undergraduate     python basics                   217   \n",
       "3   37  female   undergraduate      data science                   489   \n",
       "4   34  female    postgraduate     python basics                   496   \n",
       "5   34    male   undergraduate   web development                   184   \n",
       "6   45    male     high school     cybersecurity                   454   \n",
       "7   47    male     high school     cybersecurity                   425   \n",
       "8   48    male   undergraduate     cybersecurity                   359   \n",
       "9   45  female   undergraduate      data science                   263   \n",
       "\n",
       "   Quiz_Attempts  Quiz_Scores  Forum_Participation  \\\n",
       "0              4           67                    2   \n",
       "1              4           64                    0   \n",
       "2              2           55                    2   \n",
       "3              1           65                   43   \n",
       "4              3           59                   34   \n",
       "5              1           87                   34   \n",
       "6              3           69                   46   \n",
       "7              2           62                   23   \n",
       "8              1           59                   10   \n",
       "9              4           63                   30   \n",
       "\n",
       "   Assignment_Completion_Rate Engagement_Level  Final_Exam_Score  \\\n",
       "0                          89           medium                51   \n",
       "1                          94           medium                92   \n",
       "2                          67           medium                45   \n",
       "3                          60             high                59   \n",
       "4                          88           medium                93   \n",
       "5                          70           medium                43   \n",
       "6                          83              low                37   \n",
       "7                          52             high                35   \n",
       "8                          88           medium                49   \n",
       "9                          99              low                61   \n",
       "\n",
       "    Learning_Style  Feedback_Score  Dropout_Likelihood  \n",
       "0           visual               1                   0  \n",
       "1  reading/writing               5                   0  \n",
       "2  reading/writing               1                   0  \n",
       "3           visual               4                   0  \n",
       "4           visual               3                   0  \n",
       "5           visual               4                   0  \n",
       "6      kinesthetic               5                   0  \n",
       "7  reading/writing               5                   0  \n",
       "8  reading/writing               2                   0  \n",
       "9         auditory               3                   0  "
      ]
     },
     "execution_count": 12,
     "metadata": {},
     "output_type": "execute_result"
    }
   ],
   "source": [
    "data_cleaned.head(10)"
   ]
  },
  {
   "cell_type": "markdown",
   "id": "0d9a7f48-601d-4b30-b6d5-f6944e1b30e8",
   "metadata": {},
   "source": [
    "#### Step 4: Exploratory Data Analysis (EDA)"
   ]
  },
  {
   "cell_type": "code",
   "execution_count": 13,
   "id": "be0029ef-5981-4a29-a1c5-e2b45cb77dbf",
   "metadata": {},
   "outputs": [
    {
     "data": {
      "image/png": "[encoded data removed]",
      "text/plain": [
       "<Figure size 640x480 with 1 Axes>"
      ]
     },
     "metadata": {},
     "output_type": "display_data"
    }
   ],
   "source": [
    "# Dropout by Course\n",
    "\n",
    "dropout_by_course = data_cleaned.groupby('Course_Name')['Dropout_Likelihood'].value_counts(normalize=True).unstack()\n",
    "dropout_by_course.plot(kind='bar', stacked=True)\n",
    "plt.title(\"Dropout Rate by Course\")\n",
    "plt.ylabel(\"Proportion\")\n",
    "plt.show()"
   ]
  },
  {
   "cell_type": "code",
   "execution_count": 14,
   "id": "209ebf88-04e2-45ba-9ff2-270003aa50fd",
   "metadata": {},
   "outputs": [
    {
     "data": {
      "image/png": "[encoded data removed]",
      "text/plain": [
       "<Figure size 640x480 with 1 Axes>"
      ]
     },
     "metadata": {},
     "output_type": "display_data"
    }
   ],
   "source": [
    "#Time vs Dropout\n",
    "\n",
    "sns.boxplot(data=data_cleaned, x='Dropout_Likelihood', y='Time_Spent_on_Videos')\n",
    "plt.title(\"Hours Studied vs Dropout\")\n",
    "plt.show()"
   ]
  },
  {
   "cell_type": "code",
   "execution_count": 15,
   "id": "30fed827-f9ce-4eca-ba15-f84cabd60f7a",
   "metadata": {},
   "outputs": [
    {
     "data": {
      "text/plain": [
       "Text(0.5, 1.0, 'Dropout by Gender')"
      ]
     },
     "execution_count": 15,
     "metadata": {},
     "output_type": "execute_result"
    },
    {
     "data": {
      "image/png": "[encoded data removed]",
      "text/plain": [
       "<Figure size 640x480 with 1 Axes>"
      ]
     },
     "metadata": {},
     "output_type": "display_data"
    }
   ],
   "source": [
    "# Dropout vs Gender\n",
    "\n",
    "sns.countplot(x='Gender', hue='Dropout_Likelihood', data=data_cleaned)\n",
    "plt.title('Dropout by Gender')"
   ]
  },
  {
   "cell_type": "code",
   "execution_count": 16,
   "id": "957af83c-5d25-4612-aed4-f8ef0b259d6d",
   "metadata": {},
   "outputs": [
    {
     "data": {
      "text/plain": [
       "<Axes: xlabel='Time_Spent_on_Videos', ylabel='Count'>"
      ]
     },
     "execution_count": 16,
     "metadata": {},
     "output_type": "execute_result"
    },
    {
     "data": {
      "image/png": "[encoded data removed]",
      "text/plain": [
       "<Figure size 640x480 with 1 Axes>"
      ]
     },
     "metadata": {},
     "output_type": "display_data"
    }
   ],
   "source": [
    "# Distribution of Time Spent on Videos\n",
    "\n",
    "sns.histplot(data=data_cleaned, x='Time_Spent_on_Videos', hue='Dropout_Likelihood', kde=True)"
   ]
  },
  {
   "cell_type": "code",
   "execution_count": 17,
   "id": "04e2e688-4ca1-4b9c-a8ef-318df7c3b741",
   "metadata": {},
   "outputs": [
    {
     "data": {
      "text/plain": [
       "Text(0.5, 1.0, 'Age Distribution by Dropout Status')"
      ]
     },
     "execution_count": 17,
     "metadata": {},
     "output_type": "execute_result"
    },
    {
     "data": {
      "image/png": "[encoded data removed]",
      "text/plain": [
       "<Figure size 640x480 with 1 Axes>"
      ]
     },
     "metadata": {},
     "output_type": "display_data"
    }
   ],
   "source": [
    "#Age vs Dropout\n",
    "\n",
    "sns.histplot(data=data_cleaned, x='Age', hue='Dropout_Likelihood', kde=True)\n",
    "plt.title('Age Distribution by Dropout Status')"
   ]
  },
  {
   "cell_type": "code",
   "execution_count": 18,
   "id": "f16c6072-861f-4041-abd5-56ccd5017813",
   "metadata": {},
   "outputs": [
    {
     "data": {
      "text/plain": [
       "Text(0.5, 1.0, 'Average Time Spent on Videos by Dropout Likelihood')"
      ]
     },
     "execution_count": 18,
     "metadata": {},
     "output_type": "execute_result"
    },
    {
     "data": {
      "image/png": "[encoded data removed]",
      "text/plain": [
       "<Figure size 640x480 with 1 Axes>"
      ]
     },
     "metadata": {},
     "output_type": "display_data"
    }
   ],
   "source": [
    "#Avg time spent by dropout\n",
    "\n",
    "data_cleaned.groupby('Dropout_Likelihood')['Time_Spent_on_Videos'].mean().plot(kind='bar')\n",
    "plt.title('Average Time Spent on Videos by Dropout Likelihood')"
   ]
  },
  {
   "cell_type": "code",
   "execution_count": 19,
   "id": "20947669-5261-4561-a39a-4ccadff7a7d2",
   "metadata": {},
   "outputs": [
    {
     "data": {
      "text/plain": [
       "Text(0.5, 1.0, 'Dropout Likelihood by Education Level')"
      ]
     },
     "execution_count": 19,
     "metadata": {},
     "output_type": "execute_result"
    },
    {
     "data": {
      "image/png": "[encoded data removed]",
      "text/plain": [
       "<Figure size 640x480 with 1 Axes>"
      ]
     },
     "metadata": {},
     "output_type": "display_data"
    }
   ],
   "source": [
    "# Dropout by Education Level\n",
    "\n",
    "edu_dropout = pd.crosstab(data_cleaned['Education_Level'], data_cleaned['Dropout_Likelihood'], normalize='index') * 100\n",
    "edu_dropout.plot(kind='bar', stacked=True)\n",
    "plt.ylabel(\"Percentage\")\n",
    "plt.title(\"Dropout Likelihood by Education Level\")"
   ]
  },
  {
   "cell_type": "markdown",
   "id": "d428d1c9-0040-449a-aa07-9280442633f8",
   "metadata": {},
   "source": [
    "#### Step 5: Encoding Categorical Variables"
   ]
  },
  {
   "cell_type": "code",
   "execution_count": 20,
   "id": "e8e7de2a-87ab-4bfd-9018-18850cbfda4e",
   "metadata": {},
   "outputs": [],
   "source": [
    "cat_cols = ['Gender', 'Education_Level', 'Course_Name', 'Engagement_Level', 'Learning_Style']\n",
    "data_encoded = pd.get_dummies(data, columns=cat_cols, drop_first=True)"
   ]
  },
  {
   "cell_type": "code",
   "execution_count": 21,
   "id": "41f6b53a-f3b9-46ea-aea3-2d2ccd0f6abe",
   "metadata": {},
   "outputs": [
    {
     "data": {
      "text/html": [
       "<div>\n",
       "<style scoped>\n",
       "    .dataframe tbody tr th:only-of-type {\n",
       "        vertical-align: middle;\n",
       "    }\n",
       "\n",
       "    .dataframe tbody tr th {\n",
       "        vertical-align: top;\n",
       "    }\n",
       "\n",
       "    .dataframe thead th {\n",
       "        text-align: right;\n",
       "    }\n",
       "</style>\n",
       "<table border=\"1\" class=\"dataframe\">\n",
       "  <thead>\n",
       "    <tr style=\"text-align: right;\">\n",
       "      <th></th>\n",
       "      <th>Age</th>\n",
       "      <th>Time_Spent_on_Videos</th>\n",
       "      <th>Quiz_Attempts</th>\n",
       "      <th>Quiz_Scores</th>\n",
       "      <th>Forum_Participation</th>\n",
       "      <th>Assignment_Completion_Rate</th>\n",
       "      <th>Final_Exam_Score</th>\n",
       "      <th>Feedback_Score</th>\n",
       "      <th>Dropout_Likelihood</th>\n",
       "      <th>Gender_Male</th>\n",
       "      <th>...</th>\n",
       "      <th>Education_Level_Undergraduate</th>\n",
       "      <th>Course_Name_Data Science</th>\n",
       "      <th>Course_Name_Machine Learning</th>\n",
       "      <th>Course_Name_Python Basics</th>\n",
       "      <th>Course_Name_Web Development</th>\n",
       "      <th>Engagement_Level_Low</th>\n",
       "      <th>Engagement_Level_Medium</th>\n",
       "      <th>Learning_Style_Kinesthetic</th>\n",
       "      <th>Learning_Style_Reading/Writing</th>\n",
       "      <th>Learning_Style_Visual</th>\n",
       "    </tr>\n",
       "  </thead>\n",
       "  <tbody>\n",
       "    <tr>\n",
       "      <th>0</th>\n",
       "      <td>15</td>\n",
       "      <td>171</td>\n",
       "      <td>4</td>\n",
       "      <td>67</td>\n",
       "      <td>2</td>\n",
       "      <td>89</td>\n",
       "      <td>51</td>\n",
       "      <td>1</td>\n",
       "      <td>No</td>\n",
       "      <td>False</td>\n",
       "      <td>...</td>\n",
       "      <td>False</td>\n",
       "      <td>False</td>\n",
       "      <td>True</td>\n",
       "      <td>False</td>\n",
       "      <td>False</td>\n",
       "      <td>False</td>\n",
       "      <td>True</td>\n",
       "      <td>False</td>\n",
       "      <td>False</td>\n",
       "      <td>True</td>\n",
       "    </tr>\n",
       "    <tr>\n",
       "      <th>1</th>\n",
       "      <td>49</td>\n",
       "      <td>156</td>\n",
       "      <td>4</td>\n",
       "      <td>64</td>\n",
       "      <td>0</td>\n",
       "      <td>94</td>\n",
       "      <td>92</td>\n",
       "      <td>5</td>\n",
       "      <td>No</td>\n",
       "      <td>True</td>\n",
       "      <td>...</td>\n",
       "      <td>True</td>\n",
       "      <td>False</td>\n",
       "      <td>False</td>\n",
       "      <td>True</td>\n",
       "      <td>False</td>\n",
       "      <td>False</td>\n",
       "      <td>True</td>\n",
       "      <td>False</td>\n",
       "      <td>True</td>\n",
       "      <td>False</td>\n",
       "    </tr>\n",
       "    <tr>\n",
       "      <th>2</th>\n",
       "      <td>20</td>\n",
       "      <td>217</td>\n",
       "      <td>2</td>\n",
       "      <td>55</td>\n",
       "      <td>2</td>\n",
       "      <td>67</td>\n",
       "      <td>45</td>\n",
       "      <td>1</td>\n",
       "      <td>No</td>\n",
       "      <td>False</td>\n",
       "      <td>...</td>\n",
       "      <td>True</td>\n",
       "      <td>False</td>\n",
       "      <td>False</td>\n",
       "      <td>True</td>\n",
       "      <td>False</td>\n",
       "      <td>False</td>\n",
       "      <td>True</td>\n",
       "      <td>False</td>\n",
       "      <td>True</td>\n",
       "      <td>False</td>\n",
       "    </tr>\n",
       "    <tr>\n",
       "      <th>3</th>\n",
       "      <td>37</td>\n",
       "      <td>489</td>\n",
       "      <td>1</td>\n",
       "      <td>65</td>\n",
       "      <td>43</td>\n",
       "      <td>60</td>\n",
       "      <td>59</td>\n",
       "      <td>4</td>\n",
       "      <td>No</td>\n",
       "      <td>False</td>\n",
       "      <td>...</td>\n",
       "      <td>True</td>\n",
       "      <td>True</td>\n",
       "      <td>False</td>\n",
       "      <td>False</td>\n",
       "      <td>False</td>\n",
       "      <td>False</td>\n",
       "      <td>False</td>\n",
       "      <td>False</td>\n",
       "      <td>False</td>\n",
       "      <td>True</td>\n",
       "    </tr>\n",
       "    <tr>\n",
       "      <th>4</th>\n",
       "      <td>34</td>\n",
       "      <td>496</td>\n",
       "      <td>3</td>\n",
       "      <td>59</td>\n",
       "      <td>34</td>\n",
       "      <td>88</td>\n",
       "      <td>93</td>\n",
       "      <td>3</td>\n",
       "      <td>No</td>\n",
       "      <td>False</td>\n",
       "      <td>...</td>\n",
       "      <td>False</td>\n",
       "      <td>False</td>\n",
       "      <td>False</td>\n",
       "      <td>True</td>\n",
       "      <td>False</td>\n",
       "      <td>False</td>\n",
       "      <td>True</td>\n",
       "      <td>False</td>\n",
       "      <td>False</td>\n",
       "      <td>True</td>\n",
       "    </tr>\n",
       "    <tr>\n",
       "      <th>...</th>\n",
       "      <td>...</td>\n",
       "      <td>...</td>\n",
       "      <td>...</td>\n",
       "      <td>...</td>\n",
       "      <td>...</td>\n",
       "      <td>...</td>\n",
       "      <td>...</td>\n",
       "      <td>...</td>\n",
       "      <td>...</td>\n",
       "      <td>...</td>\n",
       "      <td>...</td>\n",
       "      <td>...</td>\n",
       "      <td>...</td>\n",
       "      <td>...</td>\n",
       "      <td>...</td>\n",
       "      <td>...</td>\n",
       "      <td>...</td>\n",
       "      <td>...</td>\n",
       "      <td>...</td>\n",
       "      <td>...</td>\n",
       "      <td>...</td>\n",
       "    </tr>\n",
       "    <tr>\n",
       "      <th>9995</th>\n",
       "      <td>26</td>\n",
       "      <td>162</td>\n",
       "      <td>2</td>\n",
       "      <td>87</td>\n",
       "      <td>27</td>\n",
       "      <td>73</td>\n",
       "      <td>68</td>\n",
       "      <td>2</td>\n",
       "      <td>No</td>\n",
       "      <td>False</td>\n",
       "      <td>...</td>\n",
       "      <td>True</td>\n",
       "      <td>False</td>\n",
       "      <td>True</td>\n",
       "      <td>False</td>\n",
       "      <td>False</td>\n",
       "      <td>False</td>\n",
       "      <td>True</td>\n",
       "      <td>True</td>\n",
       "      <td>False</td>\n",
       "      <td>False</td>\n",
       "    </tr>\n",
       "    <tr>\n",
       "      <th>9996</th>\n",
       "      <td>37</td>\n",
       "      <td>447</td>\n",
       "      <td>2</td>\n",
       "      <td>39</td>\n",
       "      <td>10</td>\n",
       "      <td>68</td>\n",
       "      <td>46</td>\n",
       "      <td>1</td>\n",
       "      <td>Yes</td>\n",
       "      <td>True</td>\n",
       "      <td>...</td>\n",
       "      <td>False</td>\n",
       "      <td>False</td>\n",
       "      <td>True</td>\n",
       "      <td>False</td>\n",
       "      <td>False</td>\n",
       "      <td>False</td>\n",
       "      <td>True</td>\n",
       "      <td>False</td>\n",
       "      <td>True</td>\n",
       "      <td>False</td>\n",
       "    </tr>\n",
       "    <tr>\n",
       "      <th>9997</th>\n",
       "      <td>40</td>\n",
       "      <td>105</td>\n",
       "      <td>4</td>\n",
       "      <td>50</td>\n",
       "      <td>23</td>\n",
       "      <td>41</td>\n",
       "      <td>64</td>\n",
       "      <td>1</td>\n",
       "      <td>No</td>\n",
       "      <td>False</td>\n",
       "      <td>...</td>\n",
       "      <td>False</td>\n",
       "      <td>False</td>\n",
       "      <td>True</td>\n",
       "      <td>False</td>\n",
       "      <td>False</td>\n",
       "      <td>False</td>\n",
       "      <td>False</td>\n",
       "      <td>False</td>\n",
       "      <td>False</td>\n",
       "      <td>True</td>\n",
       "    </tr>\n",
       "    <tr>\n",
       "      <th>9998</th>\n",
       "      <td>44</td>\n",
       "      <td>245</td>\n",
       "      <td>2</td>\n",
       "      <td>84</td>\n",
       "      <td>39</td>\n",
       "      <td>85</td>\n",
       "      <td>38</td>\n",
       "      <td>2</td>\n",
       "      <td>No</td>\n",
       "      <td>True</td>\n",
       "      <td>...</td>\n",
       "      <td>False</td>\n",
       "      <td>False</td>\n",
       "      <td>False</td>\n",
       "      <td>True</td>\n",
       "      <td>False</td>\n",
       "      <td>False</td>\n",
       "      <td>True</td>\n",
       "      <td>False</td>\n",
       "      <td>False</td>\n",
       "      <td>True</td>\n",
       "    </tr>\n",
       "    <tr>\n",
       "      <th>9999</th>\n",
       "      <td>39</td>\n",
       "      <td>171</td>\n",
       "      <td>2</td>\n",
       "      <td>88</td>\n",
       "      <td>8</td>\n",
       "      <td>69</td>\n",
       "      <td>97</td>\n",
       "      <td>2</td>\n",
       "      <td>No</td>\n",
       "      <td>False</td>\n",
       "      <td>...</td>\n",
       "      <td>True</td>\n",
       "      <td>False</td>\n",
       "      <td>True</td>\n",
       "      <td>False</td>\n",
       "      <td>False</td>\n",
       "      <td>False</td>\n",
       "      <td>True</td>\n",
       "      <td>False</td>\n",
       "      <td>False</td>\n",
       "      <td>True</td>\n",
       "    </tr>\n",
       "  </tbody>\n",
       "</table>\n",
       "<p>10000 rows × 22 columns</p>\n",
       "</div>"
      ],
      "text/plain": [
       "      Age  Time_Spent_on_Videos  Quiz_Attempts  Quiz_Scores  \\\n",
       "0      15                   171              4           67   \n",
       "1      49                   156              4           64   \n",
       "2      20                   217              2           55   \n",
       "3      37                   489              1           65   \n",
       "4      34                   496              3           59   \n",
       "...   ...                   ...            ...          ...   \n",
       "9995   26                   162              2           87   \n",
       "9996   37                   447              2           39   \n",
       "9997   40                   105              4           50   \n",
       "9998   44                   245              2           84   \n",
       "9999   39                   171              2           88   \n",
       "\n",
       "      Forum_Participation  Assignment_Completion_Rate  Final_Exam_Score  \\\n",
       "0                       2                          89                51   \n",
       "1                       0                          94                92   \n",
       "2                       2                          67                45   \n",
       "3                      43                          60                59   \n",
       "4                      34                          88                93   \n",
       "...                   ...                         ...               ...   \n",
       "9995                   27                          73                68   \n",
       "9996                   10                          68                46   \n",
       "9997                   23                          41                64   \n",
       "9998                   39                          85                38   \n",
       "9999                    8                          69                97   \n",
       "\n",
       "      Feedback_Score Dropout_Likelihood  Gender_Male  ...  \\\n",
       "0                  1                 No        False  ...   \n",
       "1                  5                 No         True  ...   \n",
       "2                  1                 No        False  ...   \n",
       "3                  4                 No        False  ...   \n",
       "4                  3                 No        False  ...   \n",
       "...              ...                ...          ...  ...   \n",
       "9995               2                 No        False  ...   \n",
       "9996               1                Yes         True  ...   \n",
       "9997               1                 No        False  ...   \n",
       "9998               2                 No         True  ...   \n",
       "9999               2                 No        False  ...   \n",
       "\n",
       "      Education_Level_Undergraduate  Course_Name_Data Science  \\\n",
       "0                             False                     False   \n",
       "1                              True                     False   \n",
       "2                              True                     False   \n",
       "3                              True                      True   \n",
       "4                             False                     False   \n",
       "...                             ...                       ...   \n",
       "9995                           True                     False   \n",
       "9996                          False                     False   \n",
       "9997                          False                     False   \n",
       "9998                          False                     False   \n",
       "9999                           True                     False   \n",
       "\n",
       "      Course_Name_Machine Learning  Course_Name_Python Basics  \\\n",
       "0                             True                      False   \n",
       "1                            False                       True   \n",
       "2                            False                       True   \n",
       "3                            False                      False   \n",
       "4                            False                       True   \n",
       "...                            ...                        ...   \n",
       "9995                          True                      False   \n",
       "9996                          True                      False   \n",
       "9997                          True                      False   \n",
       "9998                         False                       True   \n",
       "9999                          True                      False   \n",
       "\n",
       "      Course_Name_Web Development  Engagement_Level_Low  \\\n",
       "0                           False                 False   \n",
       "1                           False                 False   \n",
       "2                           False                 False   \n",
       "3                           False                 False   \n",
       "4                           False                 False   \n",
       "...                           ...                   ...   \n",
       "9995                        False                 False   \n",
       "9996                        False                 False   \n",
       "9997                        False                 False   \n",
       "9998                        False                 False   \n",
       "9999                        False                 False   \n",
       "\n",
       "      Engagement_Level_Medium  Learning_Style_Kinesthetic  \\\n",
       "0                        True                       False   \n",
       "1                        True                       False   \n",
       "2                        True                       False   \n",
       "3                       False                       False   \n",
       "4                        True                       False   \n",
       "...                       ...                         ...   \n",
       "9995                     True                        True   \n",
       "9996                     True                       False   \n",
       "9997                    False                       False   \n",
       "9998                     True                       False   \n",
       "9999                     True                       False   \n",
       "\n",
       "      Learning_Style_Reading/Writing  Learning_Style_Visual  \n",
       "0                              False                   True  \n",
       "1                               True                  False  \n",
       "2                               True                  False  \n",
       "3                              False                   True  \n",
       "4                              False                   True  \n",
       "...                              ...                    ...  \n",
       "9995                           False                  False  \n",
       "9996                            True                  False  \n",
       "9997                           False                   True  \n",
       "9998                           False                   True  \n",
       "9999                           False                   True  \n",
       "\n",
       "[10000 rows x 22 columns]"
      ]
     },
     "execution_count": 21,
     "metadata": {},
     "output_type": "execute_result"
    }
   ],
   "source": [
    "data=data_encoded.drop(['Student_ID'],axis=1)\n",
    "data"
   ]
  },
  {
   "cell_type": "markdown",
   "id": "6738350e-d4c7-4bfe-a848-ec746a2bb197",
   "metadata": {},
   "source": [
    "ML models can't handle text. get_dummies() converts categorical columns into numerical format using one-hot encoding.\n",
    "drop_first=True avoids the dummy variable trap (multicollinearity)."
   ]
  },
  {
   "cell_type": "markdown",
   "id": "5b62206a-199b-40b9-8b97-c3d1cdc5b2ba",
   "metadata": {},
   "source": [
    "#### Step 6: Splitting Features and Target"
   ]
  },
  {
   "cell_type": "code",
   "execution_count": 22,
   "id": "e1f739f1-2a63-4d54-b117-fbb6b756c5d1",
   "metadata": {},
   "outputs": [],
   "source": [
    "X=data.drop(['Dropout_Likelihood'],axis=1)\n",
    "Y=data['Dropout_Likelihood']"
   ]
  },
  {
   "cell_type": "markdown",
   "id": "2c135980-19de-4c99-bf16-6c5b17f168f6",
   "metadata": {},
   "source": [
    "X is your input (independent variables), and Y is the output (dependent variable).\n",
    "Needed to train any supervised learning model."
   ]
  },
  {
   "cell_type": "markdown",
   "id": "6a022f34-04b3-4243-a15c-8092277c02b6",
   "metadata": {},
   "source": [
    "#### Step 7: Handling Class Imbalance with SMOTE"
   ]
  },
  {
   "cell_type": "code",
   "execution_count": 23,
   "id": "f5ce88f3-56d1-4c08-98b0-abcd45c924d2",
   "metadata": {},
   "outputs": [],
   "source": [
    "from imblearn.over_sampling import SMOTE\n",
    "smote = SMOTE(random_state=42)\n",
    "x, y = smote.fit_resample(X, Y)"
   ]
  },
  {
   "cell_type": "markdown",
   "id": "13569049-a617-44e6-8f51-ddc3b1a070f4",
   "metadata": {},
   "source": [
    "SMOTE (Synthetic Minority Oversampling Technique) generates synthetic samples of the minority class to balance the dataset.\n",
    "Class imbalance leads to biased models; SMOTE improves fairness and performance."
   ]
  },
  {
   "cell_type": "markdown",
   "id": "43d9d720-761b-4ad5-848d-884bf66e04df",
   "metadata": {},
   "source": [
    "#### Step 7: Model Training"
   ]
  },
  {
   "cell_type": "code",
   "execution_count": 24,
   "id": "ef5eeccf-1b05-4474-8fe9-478ca1490eff",
   "metadata": {},
   "outputs": [],
   "source": [
    "from sklearn.model_selection import train_test_split\n",
    "x_train_scaled,x_test_scaled,y_train,y_test=train_test_split(x,y,test_size=0.3,random_state=42,stratify=y)"
   ]
  },
  {
   "cell_type": "markdown",
   "id": "034871cb-fd76-4776-9905-a7f4e882801f",
   "metadata": {},
   "source": [
    "Split into training and testing sets (70-30).\n",
    "stratify=y ensures class distribution remains balanced in both sets."
   ]
  },
  {
   "cell_type": "code",
   "execution_count": 25,
   "id": "e6d8c36e-ec2b-4772-bfee-ab3997ab2fbb",
   "metadata": {},
   "outputs": [
    {
     "name": "stdout",
     "output_type": "stream",
     "text": [
      "\n",
      "Classification Report:\n",
      "               precision    recall  f1-score   support\n",
      "\n",
      "          No       0.78      0.91      0.84      2413\n",
      "         Yes       0.90      0.75      0.81      2413\n",
      "\n",
      "    accuracy                           0.83      4826\n",
      "   macro avg       0.84      0.83      0.83      4826\n",
      "weighted avg       0.84      0.83      0.83      4826\n",
      "\n",
      "Accuracy Score: 0.8300870285951099\n"
     ]
    }
   ],
   "source": [
    "from sklearn.metrics import classification_report, accuracy_score, roc_auc_score, roc_curve, confusion_matrix\n",
    "from sklearn.ensemble import RandomForestClassifier\n",
    "\n",
    "model = RandomForestClassifier()\n",
    "model.fit(x_train_scaled, y_train)\n",
    "y_pred = model.predict(x_test_scaled)\n",
    "\n",
    "print(\"\\nClassification Report:\\n\",classification_report(y_test,y_pred))\n",
    "\n",
    "acc = accuracy_score(y_test, y_pred)\n",
    "print('Accuracy Score:', acc)"
   ]
  },
  {
   "cell_type": "markdown",
   "id": "1031807a-5028-44d7-a801-355fe1757478",
   "metadata": {},
   "source": [
    "#### Step 8: Testing Model"
   ]
  },
  {
   "cell_type": "code",
   "execution_count": 26,
   "id": "9a55cfa8-3117-4af3-a5e0-6a8beb3d0b4b",
   "metadata": {},
   "outputs": [
    {
     "name": "stdout",
     "output_type": "stream",
     "text": [
      "Predicted Dropout Likelihood: No\n"
     ]
    }
   ],
   "source": [
    "# Sample input (adjust based on your original unencoded feature names and values)\n",
    "sample_input = {\n",
    "    'Age': 21,\n",
    "    'Attendance_Rate': 0.85,\n",
    "    'Gender_male': 1,\n",
    "    'Education_Level_graduate': 0,\n",
    "    'Education_Level_postgraduate': 1,\n",
    "    'Course_Name_data science': 1,\n",
    "    'Course_Name_machine learning': 0,\n",
    "    'Engagement_Level_medium': 1,\n",
    "    'Engagement_Level_low': 0,\n",
    "    'Learning_Style_visual': 1,\n",
    "    'Learning_Style_auditory': 0,\n",
    "  \n",
    "}\n",
    "\n",
    "# Convert to DataFrame\n",
    "sample_df = pd.DataFrame([sample_input])\n",
    "\n",
    "# Ensure all expected columns are present in the same order\n",
    "missing_cols = set(X.columns) - set(sample_df.columns)\n",
    "for col in missing_cols:\n",
    "    sample_df[col] = 0  # Add missing columns with default 0\n",
    "\n",
    "# Reorder columns to match training data\n",
    "sample_df = sample_df[X.columns]\n",
    "\n",
    "# Predict the class (0 = No Dropout, 1 = Dropout)\n",
    "sample_prediction = model.predict(sample_df)\n",
    "print(\"Predicted Dropout Likelihood:\", \"Yes\" if sample_prediction[0] == 1 else \"No\")\n"
   ]
  }
 ],
 "metadata": {
  "kernelspec": {
   "display_name": "Python 3 (ipykernel)",
   "language": "python",
   "name": "python3"
  },
  "language_info": {
   "codemirror_mode": {
    "name": "ipython",
    "version": 3
   },
   "file_extension": ".py",
   "mimetype": "text/x-python",
   "name": "python",
   "nbconvert_exporter": "python",
   "pygments_lexer": "ipython3",
   "version": "3.13.3"
  }
 },
 "nbformat": 4,
 "nbformat_minor": 5
}
